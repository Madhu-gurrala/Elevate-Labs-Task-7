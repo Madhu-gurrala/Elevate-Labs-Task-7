{
 "cells": [
  {
   "cell_type": "markdown",
   "id": "fcd71694-a478-46eb-b13d-8d7772e70736",
   "metadata": {},
   "source": [
    "\n",
    "## Importing Required libraries for Data Cleaning,Data Processing,Data Visualization and Querying the data from sqllite\n"
   ]
  },
  {
   "cell_type": "markdown",
   "id": "695e9d2d-4697-4166-9664-1f5f1156d95a",
   "metadata": {},
   "source": [
    "# Step-1: Importing the libraries and modules"
   ]
  },
  {
   "cell_type": "code",
   "execution_count": 2,
   "id": "0a323921-c724-478d-913b-d15698c8c87a",
   "metadata": {},
   "outputs": [],
   "source": [
    "# Importing libraries for Data Analysis\n",
    "import pandas as pd\n",
    "import matplotlib.pyplot as plt\n",
    "import seaborn as sns\n",
    "import sqlite3"
   ]
  },
  {
   "cell_type": "markdown",
   "id": "58e785eb-e840-43a7-b1d7-7207baca945f",
   "metadata": {},
   "source": [
    "##  sqlite3 \n",
    "### sqlite3 is a built in python module for interacting with sqlite3 databases.\n",
    "## pandas \n",
    "### For handling and processing data easily using DataFrames\n",
    "## Matplotlib\n",
    "### matplotlib is used for visualising the data."
   ]
  },
  {
   "cell_type": "markdown",
   "id": "c68461f1-310d-4003-8b73-6fabfc9039eb",
   "metadata": {},
   "source": [
    "# step-2: creating a database using sqlite3 and coonecting it.\n"
   ]
  },
  {
   "cell_type": "markdown",
   "id": "5738321e-c985-47d2-9f4e-aa05309b744d",
   "metadata": {},
   "source": [
    "## Syntax:variable=sqlite3.connect('database name')\n",
    "\n",
    "### sqlite3.connect('database name')\n",
    "### It is used to create a new sqlite3 database or connects to it if already exists.\n",
    "\n",
    "###  variable_name=conn.cursor()\n",
    "### cursor creates a variable_name as object used to execute sql commands in database."
   ]
  },
  {
   "cell_type": "code",
   "execution_count": 4,
   "id": "c8d74211-11d5-4a53-819b-f2aed0544036",
   "metadata": {},
   "outputs": [],
   "source": [
    "# Connecting sqlite3 database\n",
    "conn=sqlite3.connect('sales_data.db')\n",
    "cursor=conn.cursor()"
   ]
  },
  {
   "cell_type": "markdown",
   "id": "68316dd3-271b-474d-9245-b91f7cd7f85a",
   "metadata": {},
   "source": [
    "## Step-3: Creating a tables sales\n"
   ]
  },
  {
   "cell_type": "markdown",
   "id": "bf2347cb-da65-4081-ba27-05bf522bec55",
   "metadata": {},
   "source": [
    "## Syntax: variable_name.execute(''' sql query to create table ''')\n",
    "## This command is used to create a table."
   ]
  },
  {
   "cell_type": "code",
   "execution_count": 5,
   "id": "7da9a47c-6770-48f5-a1e4-c13bdc68a8c9",
   "metadata": {},
   "outputs": [
    {
     "data": {
      "text/plain": [
       "<sqlite3.Cursor at 0x1d993016ec0>"
      ]
     },
     "execution_count": 5,
     "metadata": {},
     "output_type": "execute_result"
    }
   ],
   "source": [
    "# Creating a table sales\n",
    "cursor.execute(\"\"\" CREATE TABLE IF NOT EXISTS sales (\n",
    "order_id varchar(20) ,\n",
    "order_date date,\n",
    "product_name varchar(100),\n",
    "Category varchar(100),\n",
    "quantity_sold int,\n",
    "price double )\"\"\")"
   ]
  },
  {
   "cell_type": "markdown",
   "id": "6dbf76d0-4ac9-4ce1-9b57-dcc9a782c59e",
   "metadata": {},
   "source": [
    "## IF NOT EXISTS ensures we don't get an error if table already exists."
   ]
  },
  {
   "cell_type": "markdown",
   "id": "03d85426-381b-446c-ac7d-54d1cd93ad79",
   "metadata": {},
   "source": [
    "## Step-4 : Insert Data into the table."
   ]
  },
  {
   "cell_type": "markdown",
   "id": "ae3004d7-6488-4c78-a3de-fff3986c2fab",
   "metadata": {},
   "source": [
    "## Syntax:varaiable_name.executemany(' insert into table_name values (?,....)',sequence)\n",
    "## conn.commit()"
   ]
  },
  {
   "cell_type": "code",
   "execution_count": 6,
   "id": "32b3d6e9-7540-486e-ab24-cd5e6b124b3b",
   "metadata": {},
   "outputs": [],
   "source": [
    "# Inserting the data into the table sales\n",
    "# data with various dates\n",
    "Data=[               \n",
    "                   ('ORD001','2025/04/01','Laptop','Electronics',2,899.99),\n",
    "('ORD002','2025/04/02','T-Shirt','Clothing',5,15.99),\n",
    "('ORD003','2025/03/30','Bananas','Grocery',20,0.35),\n",
    "('ORD004','2025/03/28','Headphones','Electronics',3,49.99),\n",
    "('ORD005','2025/04/03','Milk','Grocery',10,1.99),\n",
    "('ORD006','2025/04/17','Eggs','Grocery',30,7.5),\n",
    "('ORD007','2025/01/01','Flowers','Grocery',1000,0.7),\n",
    "('ORD008','2025/03/27','Mobile','Electronics',10,10000),\n",
    "('ORD009','2025/02/18','Shirt','Clothing',10,1500)]\n",
    "\n",
    "cursor.executemany('insert into sales values (?,?,?,?,?,?)',Data)\n",
    "conn.commit()"
   ]
  },
  {
   "cell_type": "markdown",
   "id": "1b374e4c-900a-469e-a955-f9f6fc169bc5",
   "metadata": {},
   "source": [
    "## Data : A list of tuples having the orders records.\n",
    "## executemany : used to insert the data into the table using placeholders (?,?,?,....) i.e,placeholders represents the columns count.\n",
    "## conn.commit() : saves the data into the database or saves changes to the database."
   ]
  },
  {
   "cell_type": "markdown",
   "id": "b15e4ab5-d908-4fc8-94e4-da7099f26d4f",
   "metadata": {},
   "source": [
    "## Step-5 : Running the SQL Queries \n"
   ]
  },
  {
   "cell_type": "markdown",
   "id": "b4876bff-5777-4281-b643-7611c2963426",
   "metadata": {},
   "source": [
    "## Syntax: first create a variable_name1=''' sql query to retrieve data based on requirement'''\n",
    "## variable_name2=pd.read_sql_query(first variable_name,conn)\n",
    "## print(variable_name2)\n"
   ]
  },
  {
   "cell_type": "markdown",
   "id": "7d1cde44-13f1-46c1-90d5-5c74347f4b66",
   "metadata": {},
   "source": [
    "## 1. write a query to retrieve to get total sales for different categories."
   ]
  },
  {
   "cell_type": "code",
   "execution_count": 7,
   "id": "5ee6ea97-742a-4c0c-b64e-f01570126a6a",
   "metadata": {},
   "outputs": [
    {
     "data": {
      "text/html": [
       "<div>\n",
       "<style scoped>\n",
       "    .dataframe tbody tr th:only-of-type {\n",
       "        vertical-align: middle;\n",
       "    }\n",
       "\n",
       "    .dataframe tbody tr th {\n",
       "        vertical-align: top;\n",
       "    }\n",
       "\n",
       "    .dataframe thead th {\n",
       "        text-align: right;\n",
       "    }\n",
       "</style>\n",
       "<table border=\"1\" class=\"dataframe\">\n",
       "  <thead>\n",
       "    <tr style=\"text-align: right;\">\n",
       "      <th></th>\n",
       "      <th>Category</th>\n",
       "      <th>Total_sales</th>\n",
       "    </tr>\n",
       "  </thead>\n",
       "  <tbody>\n",
       "    <tr>\n",
       "      <th>0</th>\n",
       "      <td>Clothing</td>\n",
       "      <td>105</td>\n",
       "    </tr>\n",
       "    <tr>\n",
       "      <th>1</th>\n",
       "      <td>Electronics</td>\n",
       "      <td>10095</td>\n",
       "    </tr>\n",
       "    <tr>\n",
       "      <th>2</th>\n",
       "      <td>Grocery</td>\n",
       "      <td>7420</td>\n",
       "    </tr>\n",
       "  </tbody>\n",
       "</table>\n",
       "</div>"
      ],
      "text/plain": [
       "      Category  Total_sales\n",
       "0     Clothing          105\n",
       "1  Electronics        10095\n",
       "2      Grocery         7420"
      ]
     },
     "execution_count": 7,
     "metadata": {},
     "output_type": "execute_result"
    }
   ],
   "source": [
    "# query to retrive the total sales of category\n",
    "query=''' select\n",
    "Category,sum(quantity_sold) as Total_sales from sales\n",
    "group by Category'''\n",
    "# assigning the query to dataframe object\n",
    "Total_sales=pd.read_sql_query(query,conn)\n",
    "# executing the dataframe\n",
    "Total_sales"
   ]
  },
  {
   "cell_type": "markdown",
   "id": "ecf35dc5-d0e5-4c7d-9f2c-234114e35c75",
   "metadata": {},
   "source": [
    "## pd.read_sql_query(...): Runs the SQL query and loads the result directly into a pandas DataFrame called Total_sales.\n",
    "## conn stands for connection is the active active database connection object points to sqlite database."
   ]
  },
  {
   "cell_type": "markdown",
   "id": "9f9a0491-d4fb-4a68-a3db-df5019ba6813",
   "metadata": {},
   "source": [
    "## 2. write a query to retrieve the total sales fo different products"
   ]
  },
  {
   "cell_type": "code",
   "execution_count": 9,
   "id": "f9cc2a42-41e4-4a67-892b-821a54a17116",
   "metadata": {},
   "outputs": [
    {
     "data": {
      "text/html": [
       "<div>\n",
       "<style scoped>\n",
       "    .dataframe tbody tr th:only-of-type {\n",
       "        vertical-align: middle;\n",
       "    }\n",
       "\n",
       "    .dataframe tbody tr th {\n",
       "        vertical-align: top;\n",
       "    }\n",
       "\n",
       "    .dataframe thead th {\n",
       "        text-align: right;\n",
       "    }\n",
       "</style>\n",
       "<table border=\"1\" class=\"dataframe\">\n",
       "  <thead>\n",
       "    <tr style=\"text-align: right;\">\n",
       "      <th></th>\n",
       "      <th>product_name</th>\n",
       "      <th>Total_sales</th>\n",
       "    </tr>\n",
       "  </thead>\n",
       "  <tbody>\n",
       "    <tr>\n",
       "      <th>0</th>\n",
       "      <td>Bananas</td>\n",
       "      <td>140</td>\n",
       "    </tr>\n",
       "    <tr>\n",
       "      <th>1</th>\n",
       "      <td>Eggs</td>\n",
       "      <td>210</td>\n",
       "    </tr>\n",
       "    <tr>\n",
       "      <th>2</th>\n",
       "      <td>Flowers</td>\n",
       "      <td>7000</td>\n",
       "    </tr>\n",
       "    <tr>\n",
       "      <th>3</th>\n",
       "      <td>Headphones</td>\n",
       "      <td>21</td>\n",
       "    </tr>\n",
       "    <tr>\n",
       "      <th>4</th>\n",
       "      <td>Laptop</td>\n",
       "      <td>14</td>\n",
       "    </tr>\n",
       "    <tr>\n",
       "      <th>5</th>\n",
       "      <td>Milk</td>\n",
       "      <td>70</td>\n",
       "    </tr>\n",
       "    <tr>\n",
       "      <th>6</th>\n",
       "      <td>Mobile</td>\n",
       "      <td>10060</td>\n",
       "    </tr>\n",
       "    <tr>\n",
       "      <th>7</th>\n",
       "      <td>Shirt</td>\n",
       "      <td>70</td>\n",
       "    </tr>\n",
       "    <tr>\n",
       "      <th>8</th>\n",
       "      <td>T-Shirt</td>\n",
       "      <td>35</td>\n",
       "    </tr>\n",
       "  </tbody>\n",
       "</table>\n",
       "</div>"
      ],
      "text/plain": [
       "  product_name  Total_sales\n",
       "0      Bananas          140\n",
       "1         Eggs          210\n",
       "2      Flowers         7000\n",
       "3   Headphones           21\n",
       "4       Laptop           14\n",
       "5         Milk           70\n",
       "6       Mobile        10060\n",
       "7        Shirt           70\n",
       "8      T-Shirt           35"
      ]
     },
     "execution_count": 9,
     "metadata": {},
     "output_type": "execute_result"
    }
   ],
   "source": [
    "# Query to retrieve total sales of different products\n",
    "query2=''' select product_name,sum(quantity_sold) as Total_sales from sales\n",
    "group by product_name'''\n",
    "\n",
    "# assigning the query object to dataframe\n",
    "products_sales=pd.read_sql_query(query2,conn)\n",
    "# executing the dataframe\n",
    "products_sales"
   ]
  },
  {
   "cell_type": "markdown",
   "id": "4a60a12f-262f-4372-abaa-8ed6e01a65a4",
   "metadata": {},
   "source": [
    "## 3. Write a sql query to retrieve year wise total sales \n"
   ]
  },
  {
   "cell_type": "code",
   "execution_count": 13,
   "id": "531ac424-058c-4322-bbf2-da7b899ee2d1",
   "metadata": {},
   "outputs": [
    {
     "data": {
      "text/html": [
       "<div>\n",
       "<style scoped>\n",
       "    .dataframe tbody tr th:only-of-type {\n",
       "        vertical-align: middle;\n",
       "    }\n",
       "\n",
       "    .dataframe tbody tr th {\n",
       "        vertical-align: top;\n",
       "    }\n",
       "\n",
       "    .dataframe thead th {\n",
       "        text-align: right;\n",
       "    }\n",
       "</style>\n",
       "<table border=\"1\" class=\"dataframe\">\n",
       "  <thead>\n",
       "    <tr style=\"text-align: right;\">\n",
       "      <th></th>\n",
       "      <th>year</th>\n",
       "      <th>Total_sales</th>\n",
       "    </tr>\n",
       "  </thead>\n",
       "  <tbody>\n",
       "    <tr>\n",
       "      <th>0</th>\n",
       "      <td>None</td>\n",
       "      <td>17620</td>\n",
       "    </tr>\n",
       "  </tbody>\n",
       "</table>\n",
       "</div>"
      ],
      "text/plain": [
       "   year  Total_sales\n",
       "0  None        17620"
      ]
     },
     "execution_count": 13,
     "metadata": {},
     "output_type": "execute_result"
    }
   ],
   "source": [
    "# Query to retrieve total sales by year\n",
    "query3=''' select strftime('%Y',order_date) as year,sum(quantity_sold) as Total_sales from sales\n",
    "group by year'''\n",
    "\n",
    "# assigning the query to dataframe using pandas\n",
    "year_sales=pd.read_sql_query(query3,conn)\n",
    "# executing the dataframe\n",
    "year_sales"
   ]
  },
  {
   "cell_type": "markdown",
   "id": "ed752998-f4fc-46b7-928f-20e12e2775e1",
   "metadata": {},
   "source": [
    "## Here we can't retrieve the year from the date column because it is in the format 2025/09/26 which sqlite can't recognise.\n"
   ]
  },
  {
   "cell_type": "markdown",
   "id": "2c5619c5-0915-4088-acea-76319bdbd9da",
   "metadata": {},
   "source": [
    "# 4. Converting to valid format and retrieving the sales year wise."
   ]
  },
  {
   "cell_type": "code",
   "execution_count": 15,
   "id": "b677237a-2a45-4caf-8bcd-4605156a00b9",
   "metadata": {},
   "outputs": [
    {
     "data": {
      "text/html": [
       "<div>\n",
       "<style scoped>\n",
       "    .dataframe tbody tr th:only-of-type {\n",
       "        vertical-align: middle;\n",
       "    }\n",
       "\n",
       "    .dataframe tbody tr th {\n",
       "        vertical-align: top;\n",
       "    }\n",
       "\n",
       "    .dataframe thead th {\n",
       "        text-align: right;\n",
       "    }\n",
       "</style>\n",
       "<table border=\"1\" class=\"dataframe\">\n",
       "  <thead>\n",
       "    <tr style=\"text-align: right;\">\n",
       "      <th></th>\n",
       "      <th>year</th>\n",
       "      <th>Total_sales</th>\n",
       "    </tr>\n",
       "  </thead>\n",
       "  <tbody>\n",
       "    <tr>\n",
       "      <th>0</th>\n",
       "      <td>2025</td>\n",
       "      <td>17620</td>\n",
       "    </tr>\n",
       "  </tbody>\n",
       "</table>\n",
       "</div>"
      ],
      "text/plain": [
       "   year  Total_sales\n",
       "0  2025        17620"
      ]
     },
     "execution_count": 15,
     "metadata": {},
     "output_type": "execute_result"
    }
   ],
   "source": [
    "# Query to retrieve total sales by year\n",
    "query4=''' select strftime('%Y',REPLACE(order_date,'/','-')) as year,sum(quantity_sold) as Total_sales from sales\n",
    "group by year'''\n",
    "\n",
    "# assigning the query to dataframe using pandas\n",
    "year_sales=pd.read_sql_query(query4,conn)\n",
    "# executing the dataframe\n",
    "year_sales"
   ]
  },
  {
   "cell_type": "markdown",
   "id": "f3366b5e-1e3a-4c09-ad45-78b72273edf0",
   "metadata": {},
   "source": [
    "## Replace:It is used to replace the delimeter in the column"
   ]
  },
  {
   "cell_type": "markdown",
   "id": "2a64c4e5-0919-45f1-b5bc-b1dd724e6e77",
   "metadata": {},
   "source": [
    "## 5. write a query to retrieve the total sales and revenue by category"
   ]
  },
  {
   "cell_type": "code",
   "execution_count": 16,
   "id": "e6cf958f-e0fd-468d-b0de-897b5405cf47",
   "metadata": {},
   "outputs": [
    {
     "data": {
      "text/html": [
       "<div>\n",
       "<style scoped>\n",
       "    .dataframe tbody tr th:only-of-type {\n",
       "        vertical-align: middle;\n",
       "    }\n",
       "\n",
       "    .dataframe tbody tr th {\n",
       "        vertical-align: top;\n",
       "    }\n",
       "\n",
       "    .dataframe thead th {\n",
       "        text-align: right;\n",
       "    }\n",
       "</style>\n",
       "<table border=\"1\" class=\"dataframe\">\n",
       "  <thead>\n",
       "    <tr style=\"text-align: right;\">\n",
       "      <th></th>\n",
       "      <th>Category</th>\n",
       "      <th>Total_sales</th>\n",
       "      <th>revenue</th>\n",
       "    </tr>\n",
       "  </thead>\n",
       "  <tbody>\n",
       "    <tr>\n",
       "      <th>0</th>\n",
       "      <td>Clothing</td>\n",
       "      <td>105</td>\n",
       "      <td>105559.65</td>\n",
       "    </tr>\n",
       "    <tr>\n",
       "      <th>1</th>\n",
       "      <td>Electronics</td>\n",
       "      <td>10095</td>\n",
       "      <td>713649.65</td>\n",
       "    </tr>\n",
       "    <tr>\n",
       "      <th>2</th>\n",
       "      <td>Grocery</td>\n",
       "      <td>7420</td>\n",
       "      <td>6663.30</td>\n",
       "    </tr>\n",
       "  </tbody>\n",
       "</table>\n",
       "</div>"
      ],
      "text/plain": [
       "      Category  Total_sales    revenue\n",
       "0     Clothing          105  105559.65\n",
       "1  Electronics        10095  713649.65\n",
       "2      Grocery         7420    6663.30"
      ]
     },
     "execution_count": 16,
     "metadata": {},
     "output_type": "execute_result"
    }
   ],
   "source": [
    "# query to retrieve the total sales and revenue\n",
    "query5=''' select Category,sum(quantity_sold) as Total_sales,sum(price*quantity_sold) as revenue from sales\n",
    "group by Category'''\n",
    "# assigning the query to dataframe\n",
    "total_revenue_sales=pd.read_sql_query(query5,conn)\n",
    "# Executing the query\n",
    "total_revenue_sales"
   ]
  },
  {
   "cell_type": "markdown",
   "id": "32b18714-bde8-4d01-a27a-d73035868547",
   "metadata": {},
   "source": [
    "## 6. write a query to retrive month wise sales and revenue\n"
   ]
  },
  {
   "cell_type": "code",
   "execution_count": 23,
   "id": "5b2caa75-3948-4fc5-9747-3ac59485d0ce",
   "metadata": {},
   "outputs": [
    {
     "data": {
      "text/html": [
       "<div>\n",
       "<style scoped>\n",
       "    .dataframe tbody tr th:only-of-type {\n",
       "        vertical-align: middle;\n",
       "    }\n",
       "\n",
       "    .dataframe tbody tr th {\n",
       "        vertical-align: top;\n",
       "    }\n",
       "\n",
       "    .dataframe thead th {\n",
       "        text-align: right;\n",
       "    }\n",
       "</style>\n",
       "<table border=\"1\" class=\"dataframe\">\n",
       "  <thead>\n",
       "    <tr style=\"text-align: right;\">\n",
       "      <th></th>\n",
       "      <th>month_name</th>\n",
       "      <th>Total_sales</th>\n",
       "      <th>revenue</th>\n",
       "    </tr>\n",
       "  </thead>\n",
       "  <tbody>\n",
       "    <tr>\n",
       "      <th>0</th>\n",
       "      <td>None</td>\n",
       "      <td>17620</td>\n",
       "      <td>825872.6</td>\n",
       "    </tr>\n",
       "  </tbody>\n",
       "</table>\n",
       "</div>"
      ],
      "text/plain": [
       "  month_name  Total_sales   revenue\n",
       "0       None        17620  825872.6"
      ]
     },
     "execution_count": 23,
     "metadata": {},
     "output_type": "execute_result"
    }
   ],
   "source": [
    "# query to retrieve month wise sales and revenue\n",
    "query6=''' select \n",
    "CASE strftime('%m',order_date)\n",
    "        WHEN '01' THEN 'January'\n",
    "        WHEN '02' THEN 'February'\n",
    "        WHEN '03' THEN 'March'\n",
    "        WHEN '04' THEN 'April'\n",
    "        WHEN '05' THEN 'May'\n",
    "        WHEN '06' THEN 'June'\n",
    "        WHEN '07' THEN 'July'\n",
    "        WHEN '08' THEN 'August'\n",
    "        WHEN '09' THEN 'September'\n",
    "        WHEN '10' THEN 'October'\n",
    "        WHEN '11' THEN 'November'\n",
    "        WHEN '12' THEN 'December'\n",
    "    END AS month_name,\n",
    "sum(quantity_sold) as Total_sales,\n",
    "sum(price*quantity_sold) as revenue \n",
    "from sales\n",
    "group by month_name\n",
    "order by Total_sales ,revenue '''\n",
    "\n",
    "# assigning the query to dataframe using pandas\n",
    "year_sales=pd.read_sql_query(query6,conn)\n",
    "# executing the dataframe\n",
    "year_sales"
   ]
  },
  {
   "cell_type": "markdown",
   "id": "179f93b9-cba3-48f8-8200-2edca1c4e846",
   "metadata": {},
   "source": [
    "## Here we can't retrieve the month name from the date column because it is in the format 2025/09/26 which sqlite can't recognise."
   ]
  },
  {
   "cell_type": "markdown",
   "id": "a64a024a-c07e-4f76-a383-be767e09b319",
   "metadata": {},
   "source": [
    "## 7. Converting to valid format and retrieving the sales month wise."
   ]
  },
  {
   "cell_type": "code",
   "execution_count": 26,
   "id": "8bfeb0c1-8087-4b8c-9614-e0f17b06457a",
   "metadata": {},
   "outputs": [
    {
     "data": {
      "text/html": [
       "<div>\n",
       "<style scoped>\n",
       "    .dataframe tbody tr th:only-of-type {\n",
       "        vertical-align: middle;\n",
       "    }\n",
       "\n",
       "    .dataframe tbody tr th {\n",
       "        vertical-align: top;\n",
       "    }\n",
       "\n",
       "    .dataframe thead th {\n",
       "        text-align: right;\n",
       "    }\n",
       "</style>\n",
       "<table border=\"1\" class=\"dataframe\">\n",
       "  <thead>\n",
       "    <tr style=\"text-align: right;\">\n",
       "      <th></th>\n",
       "      <th>month_name</th>\n",
       "      <th>Total_sales</th>\n",
       "      <th>revenue</th>\n",
       "    </tr>\n",
       "  </thead>\n",
       "  <tbody>\n",
       "    <tr>\n",
       "      <th>0</th>\n",
       "      <td>February</td>\n",
       "      <td>70</td>\n",
       "      <td>105000.00</td>\n",
       "    </tr>\n",
       "    <tr>\n",
       "      <th>1</th>\n",
       "      <td>April</td>\n",
       "      <td>329</td>\n",
       "      <td>14873.81</td>\n",
       "    </tr>\n",
       "    <tr>\n",
       "      <th>2</th>\n",
       "      <td>January</td>\n",
       "      <td>7000</td>\n",
       "      <td>4900.00</td>\n",
       "    </tr>\n",
       "    <tr>\n",
       "      <th>3</th>\n",
       "      <td>March</td>\n",
       "      <td>10221</td>\n",
       "      <td>701098.79</td>\n",
       "    </tr>\n",
       "  </tbody>\n",
       "</table>\n",
       "</div>"
      ],
      "text/plain": [
       "  month_name  Total_sales    revenue\n",
       "0   February           70  105000.00\n",
       "1      April          329   14873.81\n",
       "2    January         7000    4900.00\n",
       "3      March        10221  701098.79"
      ]
     },
     "execution_count": 26,
     "metadata": {},
     "output_type": "execute_result"
    }
   ],
   "source": [
    "# query to retrieve month wise sales and revenue\n",
    "query7=''' select \n",
    "CASE strftime('%m', REPLACE(order_date,'/','-'))\n",
    "        WHEN '01' THEN 'January'\n",
    "        WHEN '02' THEN 'February'\n",
    "        WHEN '03' THEN 'March'\n",
    "        WHEN '04' THEN 'April'\n",
    "        WHEN '05' THEN 'May'\n",
    "        WHEN '06' THEN 'June'\n",
    "        WHEN '07' THEN 'July'\n",
    "        WHEN '08' THEN 'August'\n",
    "        WHEN '09' THEN 'September'\n",
    "        WHEN '10' THEN 'October'\n",
    "        WHEN '11' THEN 'November'\n",
    "        WHEN '12' THEN 'December'\n",
    "    END AS month_name,\n",
    "sum(quantity_sold) as Total_sales,\n",
    "sum(price*quantity_sold) as revenue \n",
    "from sales\n",
    "group by month_name\n",
    "order by Total_sales ,revenue '''\n",
    "\n",
    "# assigning the query to dataframe using pandas\n",
    "year_sales=pd.read_sql_query(query7,conn)\n",
    "# executing the dataframe\n",
    "year_sales"
   ]
  },
  {
   "cell_type": "markdown",
   "id": "6105ef0a-3e78-4e26-b0ba-fd412519b27a",
   "metadata": {},
   "source": [
    "## 8. write a query to retrive product wise sales and revenue"
   ]
  },
  {
   "cell_type": "code",
   "execution_count": 38,
   "id": "bc83e2fa-a720-402a-9ed6-af57770d1a99",
   "metadata": {},
   "outputs": [
    {
     "data": {
      "text/html": [
       "<div>\n",
       "<style scoped>\n",
       "    .dataframe tbody tr th:only-of-type {\n",
       "        vertical-align: middle;\n",
       "    }\n",
       "\n",
       "    .dataframe tbody tr th {\n",
       "        vertical-align: top;\n",
       "    }\n",
       "\n",
       "    .dataframe thead th {\n",
       "        text-align: right;\n",
       "    }\n",
       "</style>\n",
       "<table border=\"1\" class=\"dataframe\">\n",
       "  <thead>\n",
       "    <tr style=\"text-align: right;\">\n",
       "      <th></th>\n",
       "      <th>product_name</th>\n",
       "      <th>Total_sales</th>\n",
       "      <th>revenue</th>\n",
       "    </tr>\n",
       "  </thead>\n",
       "  <tbody>\n",
       "    <tr>\n",
       "      <th>0</th>\n",
       "      <td>Laptop</td>\n",
       "      <td>14</td>\n",
       "      <td>12599.86</td>\n",
       "    </tr>\n",
       "    <tr>\n",
       "      <th>1</th>\n",
       "      <td>Headphones</td>\n",
       "      <td>21</td>\n",
       "      <td>1049.79</td>\n",
       "    </tr>\n",
       "    <tr>\n",
       "      <th>2</th>\n",
       "      <td>T-Shirt</td>\n",
       "      <td>35</td>\n",
       "      <td>559.65</td>\n",
       "    </tr>\n",
       "    <tr>\n",
       "      <th>3</th>\n",
       "      <td>Milk</td>\n",
       "      <td>70</td>\n",
       "      <td>139.30</td>\n",
       "    </tr>\n",
       "    <tr>\n",
       "      <th>4</th>\n",
       "      <td>Shirt</td>\n",
       "      <td>70</td>\n",
       "      <td>105000.00</td>\n",
       "    </tr>\n",
       "    <tr>\n",
       "      <th>5</th>\n",
       "      <td>Bananas</td>\n",
       "      <td>140</td>\n",
       "      <td>49.00</td>\n",
       "    </tr>\n",
       "    <tr>\n",
       "      <th>6</th>\n",
       "      <td>Eggs</td>\n",
       "      <td>210</td>\n",
       "      <td>1575.00</td>\n",
       "    </tr>\n",
       "    <tr>\n",
       "      <th>7</th>\n",
       "      <td>Flowers</td>\n",
       "      <td>7000</td>\n",
       "      <td>4900.00</td>\n",
       "    </tr>\n",
       "    <tr>\n",
       "      <th>8</th>\n",
       "      <td>Mobile</td>\n",
       "      <td>10060</td>\n",
       "      <td>700000.00</td>\n",
       "    </tr>\n",
       "  </tbody>\n",
       "</table>\n",
       "</div>"
      ],
      "text/plain": [
       "  product_name  Total_sales    revenue\n",
       "0       Laptop           14   12599.86\n",
       "1   Headphones           21    1049.79\n",
       "2      T-Shirt           35     559.65\n",
       "3         Milk           70     139.30\n",
       "4        Shirt           70  105000.00\n",
       "5      Bananas          140      49.00\n",
       "6         Eggs          210    1575.00\n",
       "7      Flowers         7000    4900.00\n",
       "8       Mobile        10060  700000.00"
      ]
     },
     "execution_count": 38,
     "metadata": {},
     "output_type": "execute_result"
    }
   ],
   "source": [
    "# Query to retrive product wise sales and revenue\n",
    "query8='''select product_name,sum(quantity_sold) as Total_sales, sum(price*quantity_sold) as revenue from sales\n",
    "group by product_name\n",
    "order by Total_sales ,revenue'''\n",
    "# Assigning the query object to dataframe\n",
    "product_sales=pd.read_sql_query(query8,conn)\n",
    "# executing the dataframe\n",
    "product_sales"
   ]
  },
  {
   "cell_type": "code",
   "execution_count": 28,
   "id": "15ea4ca5-59a5-43b5-b6fb-96c043cba095",
   "metadata": {},
   "outputs": [
    {
     "data": {
      "text/html": [
       "<div>\n",
       "<style scoped>\n",
       "    .dataframe tbody tr th:only-of-type {\n",
       "        vertical-align: middle;\n",
       "    }\n",
       "\n",
       "    .dataframe tbody tr th {\n",
       "        vertical-align: top;\n",
       "    }\n",
       "\n",
       "    .dataframe thead th {\n",
       "        text-align: right;\n",
       "    }\n",
       "</style>\n",
       "<table border=\"1\" class=\"dataframe\">\n",
       "  <thead>\n",
       "    <tr style=\"text-align: right;\">\n",
       "      <th></th>\n",
       "      <th>day_name</th>\n",
       "      <th>sales</th>\n",
       "      <th>revenue</th>\n",
       "    </tr>\n",
       "  </thead>\n",
       "  <tbody>\n",
       "    <tr>\n",
       "      <th>0</th>\n",
       "      <td>None</td>\n",
       "      <td>17620</td>\n",
       "      <td>825872.6</td>\n",
       "    </tr>\n",
       "  </tbody>\n",
       "</table>\n",
       "</div>"
      ],
      "text/plain": [
       "  day_name  sales   revenue\n",
       "0     None  17620  825872.6"
      ]
     },
     "execution_count": 28,
     "metadata": {},
     "output_type": "execute_result"
    }
   ],
   "source": [
    "# Query to retrieve day wise sales and revenue\n",
    "query9='''select \n",
    "CASE strftime('%w', order_date)\n",
    "            WHEN '0' THEN 'Sunday'\n",
    "            WHEN '1' THEN 'Monday'\n",
    "            WHEN '2' THEN 'Tuesday'\n",
    "            WHEN '3' THEN 'Wednesday'\n",
    "            WHEN '4' THEN 'Thursday'\n",
    "            WHEN '5' THEN 'Friday'\n",
    "            WHEN '6' THEN 'Saturday'\n",
    "        END AS day_name,\n",
    "        sum(quantity_sold) as sales,\n",
    "        sum(price*quantity_sold) as revenue from sales\n",
    "        group by day_name'''\n",
    "# Assigning the query object to dataframe\n",
    "day_sales=pd.read_sql_query(query9,conn)\n",
    "# executing the dataframe\n",
    "day_sales"
   ]
  },
  {
   "cell_type": "markdown",
   "id": "e035a559-5b6b-4216-bc50-cb4e863f9257",
   "metadata": {},
   "source": [
    "## Here we can't retrieve the day name from the date column because it is in the format 2025/09/26 which sqlite can't recognise."
   ]
  },
  {
   "cell_type": "markdown",
   "id": "8aa6b4f3-6032-443c-a94d-1023b93d12b0",
   "metadata": {},
   "source": [
    "## 10. Converting to valid format and retrieving the sales month wise."
   ]
  },
  {
   "cell_type": "code",
   "execution_count": 31,
   "id": "03e068ac-0a01-4cdf-8360-dd1daf2e45f3",
   "metadata": {},
   "outputs": [
    {
     "data": {
      "text/html": [
       "<div>\n",
       "<style scoped>\n",
       "    .dataframe tbody tr th:only-of-type {\n",
       "        vertical-align: middle;\n",
       "    }\n",
       "\n",
       "    .dataframe tbody tr th {\n",
       "        vertical-align: top;\n",
       "    }\n",
       "\n",
       "    .dataframe thead th {\n",
       "        text-align: right;\n",
       "    }\n",
       "</style>\n",
       "<table border=\"1\" class=\"dataframe\">\n",
       "  <thead>\n",
       "    <tr style=\"text-align: right;\">\n",
       "      <th></th>\n",
       "      <th>day_name</th>\n",
       "      <th>sales</th>\n",
       "      <th>revenue</th>\n",
       "    </tr>\n",
       "  </thead>\n",
       "  <tbody>\n",
       "    <tr>\n",
       "      <th>0</th>\n",
       "      <td>Friday</td>\n",
       "      <td>21</td>\n",
       "      <td>1049.79</td>\n",
       "    </tr>\n",
       "    <tr>\n",
       "      <th>1</th>\n",
       "      <td>Tuesday</td>\n",
       "      <td>84</td>\n",
       "      <td>117599.86</td>\n",
       "    </tr>\n",
       "    <tr>\n",
       "      <th>2</th>\n",
       "      <td>Sunday</td>\n",
       "      <td>140</td>\n",
       "      <td>49.00</td>\n",
       "    </tr>\n",
       "    <tr>\n",
       "      <th>3</th>\n",
       "      <td>Wednesday</td>\n",
       "      <td>7035</td>\n",
       "      <td>5459.65</td>\n",
       "    </tr>\n",
       "    <tr>\n",
       "      <th>4</th>\n",
       "      <td>Thursday</td>\n",
       "      <td>10340</td>\n",
       "      <td>701714.30</td>\n",
       "    </tr>\n",
       "  </tbody>\n",
       "</table>\n",
       "</div>"
      ],
      "text/plain": [
       "    day_name  sales    revenue\n",
       "0     Friday     21    1049.79\n",
       "1    Tuesday     84  117599.86\n",
       "2     Sunday    140      49.00\n",
       "3  Wednesday   7035    5459.65\n",
       "4   Thursday  10340  701714.30"
      ]
     },
     "execution_count": 31,
     "metadata": {},
     "output_type": "execute_result"
    }
   ],
   "source": [
    "# Query to retrieve day wise sales and revenue\n",
    "query9='''select \n",
    "CASE strftime('%w', REPLACE(order_date,'/','-'))\n",
    "            WHEN '0' THEN 'Sunday'\n",
    "            WHEN '1' THEN 'Monday'\n",
    "            WHEN '2' THEN 'Tuesday'\n",
    "            WHEN '3' THEN 'Wednesday'\n",
    "            WHEN '4' THEN 'Thursday'\n",
    "            WHEN '5' THEN 'Friday'\n",
    "            WHEN '6' THEN 'Saturday'\n",
    "        END AS day_name,\n",
    "        sum(quantity_sold) as sales,\n",
    "        sum(price*quantity_sold) as revenue from sales\n",
    "        group by day_name\n",
    "        order by sales ,revenue'''\n",
    "# Assigning the query object to dataframe\n",
    "day_sales=pd.read_sql_query(query9,conn)\n",
    "# executing the dataframe\n",
    "day_sales"
   ]
  },
  {
   "cell_type": "code",
   "execution_count": 42,
   "id": "aad27b2b-942e-468a-8f8d-a705383f83b5",
   "metadata": {},
   "outputs": [
    {
     "ename": "ConversionError",
     "evalue": "Failed to convert value(s) to axis units: 'revenue'",
     "output_type": "error",
     "traceback": [
      "\u001b[1;31m---------------------------------------------------------------------------\u001b[0m",
      "\u001b[1;31mValueError\u001b[0m                                Traceback (most recent call last)",
      "File \u001b[1;32m~\\anaconda3\\anaconda3.3\\Lib\\site-packages\\matplotlib\\axis.py:1813\u001b[0m, in \u001b[0;36mAxis.convert_units\u001b[1;34m(self, x)\u001b[0m\n\u001b[0;32m   1812\u001b[0m \u001b[38;5;28;01mtry\u001b[39;00m:\n\u001b[1;32m-> 1813\u001b[0m     ret \u001b[38;5;241m=\u001b[39m \u001b[38;5;28mself\u001b[39m\u001b[38;5;241m.\u001b[39mconverter\u001b[38;5;241m.\u001b[39mconvert(x, \u001b[38;5;28mself\u001b[39m\u001b[38;5;241m.\u001b[39munits, \u001b[38;5;28mself\u001b[39m)\n\u001b[0;32m   1814\u001b[0m \u001b[38;5;28;01mexcept\u001b[39;00m \u001b[38;5;167;01mException\u001b[39;00m \u001b[38;5;28;01mas\u001b[39;00m e:\n",
      "File \u001b[1;32m~\\anaconda3\\anaconda3.3\\Lib\\site-packages\\matplotlib\\category.py:49\u001b[0m, in \u001b[0;36mStrCategoryConverter.convert\u001b[1;34m(value, unit, axis)\u001b[0m\n\u001b[0;32m     48\u001b[0m \u001b[38;5;28;01mif\u001b[39;00m unit \u001b[38;5;129;01mis\u001b[39;00m \u001b[38;5;28;01mNone\u001b[39;00m:\n\u001b[1;32m---> 49\u001b[0m     \u001b[38;5;28;01mraise\u001b[39;00m \u001b[38;5;167;01mValueError\u001b[39;00m(\n\u001b[0;32m     50\u001b[0m         \u001b[38;5;124m'\u001b[39m\u001b[38;5;124mMissing category information for StrCategoryConverter; \u001b[39m\u001b[38;5;124m'\u001b[39m\n\u001b[0;32m     51\u001b[0m         \u001b[38;5;124m'\u001b[39m\u001b[38;5;124mthis might be caused by unintendedly mixing categorical and \u001b[39m\u001b[38;5;124m'\u001b[39m\n\u001b[0;32m     52\u001b[0m         \u001b[38;5;124m'\u001b[39m\u001b[38;5;124mnumeric data\u001b[39m\u001b[38;5;124m'\u001b[39m)\n\u001b[0;32m     53\u001b[0m StrCategoryConverter\u001b[38;5;241m.\u001b[39m_validate_unit(unit)\n",
      "\u001b[1;31mValueError\u001b[0m: Missing category information for StrCategoryConverter; this might be caused by unintendedly mixing categorical and numeric data",
      "\nThe above exception was the direct cause of the following exception:\n",
      "\u001b[1;31mConversionError\u001b[0m                           Traceback (most recent call last)",
      "Cell \u001b[1;32mIn[42], line 7\u001b[0m\n\u001b[0;32m      5\u001b[0m summary\u001b[38;5;241m=\u001b[39mpd\u001b[38;5;241m.\u001b[39mread_sql_query(query11,conn)\n\u001b[0;32m      6\u001b[0m \u001b[38;5;66;03m# Executing the dataframe using matplotlib\u001b[39;00m\n\u001b[1;32m----> 7\u001b[0m plt\u001b[38;5;241m.\u001b[39mbar(x\u001b[38;5;241m=\u001b[39m\u001b[38;5;124m'\u001b[39m\u001b[38;5;124mproduct_name\u001b[39m\u001b[38;5;124m'\u001b[39m,y\u001b[38;5;241m=\u001b[39m\u001b[38;5;124m'\u001b[39m\u001b[38;5;124mrevenue\u001b[39m\u001b[38;5;124m'\u001b[39m,width\u001b[38;5;241m=\u001b[39m\u001b[38;5;241m0.4\u001b[39m,label\u001b[38;5;241m=\u001b[39m\u001b[38;5;124m'\u001b[39m\u001b[38;5;124mquantity_sold\u001b[39m\u001b[38;5;124m'\u001b[39m,align\u001b[38;5;241m=\u001b[39m\u001b[38;5;124m'\u001b[39m\u001b[38;5;124mcenter\u001b[39m\u001b[38;5;124m'\u001b[39m,color\u001b[38;5;241m=\u001b[39m\u001b[38;5;124m'\u001b[39m\u001b[38;5;124mskyblue\u001b[39m\u001b[38;5;124m'\u001b[39m,height\u001b[38;5;241m=\u001b[39m\u001b[38;5;241m5\u001b[39m)\n\u001b[0;32m      8\u001b[0m plt\u001b[38;5;241m.\u001b[39mxlabel(\u001b[38;5;124m\"\u001b[39m\u001b[38;5;124mProducts\u001b[39m\u001b[38;5;124m\"\u001b[39m)\n\u001b[0;32m      9\u001b[0m plt\u001b[38;5;241m.\u001b[39mylabel(\u001b[38;5;124m\"\u001b[39m\u001b[38;5;124mRevenue\u001b[39m\u001b[38;5;124m\"\u001b[39m)\n",
      "File \u001b[1;32m~\\anaconda3\\anaconda3.3\\Lib\\site-packages\\matplotlib\\pyplot.py:2956\u001b[0m, in \u001b[0;36mbar\u001b[1;34m(x, height, width, bottom, align, data, **kwargs)\u001b[0m\n\u001b[0;32m   2945\u001b[0m \u001b[38;5;129m@_copy_docstring_and_deprecators\u001b[39m(Axes\u001b[38;5;241m.\u001b[39mbar)\n\u001b[0;32m   2946\u001b[0m \u001b[38;5;28;01mdef\u001b[39;00m \u001b[38;5;21mbar\u001b[39m(\n\u001b[0;32m   2947\u001b[0m     x: \u001b[38;5;28mfloat\u001b[39m \u001b[38;5;241m|\u001b[39m ArrayLike,\n\u001b[1;32m   (...)\u001b[0m\n\u001b[0;32m   2954\u001b[0m     \u001b[38;5;241m*\u001b[39m\u001b[38;5;241m*\u001b[39mkwargs,\n\u001b[0;32m   2955\u001b[0m ) \u001b[38;5;241m-\u001b[39m\u001b[38;5;241m>\u001b[39m BarContainer:\n\u001b[1;32m-> 2956\u001b[0m     \u001b[38;5;28;01mreturn\u001b[39;00m gca()\u001b[38;5;241m.\u001b[39mbar(\n\u001b[0;32m   2957\u001b[0m         x,\n\u001b[0;32m   2958\u001b[0m         height,\n\u001b[0;32m   2959\u001b[0m         width\u001b[38;5;241m=\u001b[39mwidth,\n\u001b[0;32m   2960\u001b[0m         bottom\u001b[38;5;241m=\u001b[39mbottom,\n\u001b[0;32m   2961\u001b[0m         align\u001b[38;5;241m=\u001b[39malign,\n\u001b[0;32m   2962\u001b[0m         \u001b[38;5;241m*\u001b[39m\u001b[38;5;241m*\u001b[39m({\u001b[38;5;124m\"\u001b[39m\u001b[38;5;124mdata\u001b[39m\u001b[38;5;124m\"\u001b[39m: data} \u001b[38;5;28;01mif\u001b[39;00m data \u001b[38;5;129;01mis\u001b[39;00m \u001b[38;5;129;01mnot\u001b[39;00m \u001b[38;5;28;01mNone\u001b[39;00m \u001b[38;5;28;01melse\u001b[39;00m {}),\n\u001b[0;32m   2963\u001b[0m         \u001b[38;5;241m*\u001b[39m\u001b[38;5;241m*\u001b[39mkwargs,\n\u001b[0;32m   2964\u001b[0m     )\n",
      "File \u001b[1;32m~\\anaconda3\\anaconda3.3\\Lib\\site-packages\\matplotlib\\__init__.py:1473\u001b[0m, in \u001b[0;36m_preprocess_data.<locals>.inner\u001b[1;34m(ax, data, *args, **kwargs)\u001b[0m\n\u001b[0;32m   1470\u001b[0m \u001b[38;5;129m@functools\u001b[39m\u001b[38;5;241m.\u001b[39mwraps(func)\n\u001b[0;32m   1471\u001b[0m \u001b[38;5;28;01mdef\u001b[39;00m \u001b[38;5;21minner\u001b[39m(ax, \u001b[38;5;241m*\u001b[39margs, data\u001b[38;5;241m=\u001b[39m\u001b[38;5;28;01mNone\u001b[39;00m, \u001b[38;5;241m*\u001b[39m\u001b[38;5;241m*\u001b[39mkwargs):\n\u001b[0;32m   1472\u001b[0m     \u001b[38;5;28;01mif\u001b[39;00m data \u001b[38;5;129;01mis\u001b[39;00m \u001b[38;5;28;01mNone\u001b[39;00m:\n\u001b[1;32m-> 1473\u001b[0m         \u001b[38;5;28;01mreturn\u001b[39;00m func(\n\u001b[0;32m   1474\u001b[0m             ax,\n\u001b[0;32m   1475\u001b[0m             \u001b[38;5;241m*\u001b[39m\u001b[38;5;28mmap\u001b[39m(sanitize_sequence, args),\n\u001b[0;32m   1476\u001b[0m             \u001b[38;5;241m*\u001b[39m\u001b[38;5;241m*\u001b[39m{k: sanitize_sequence(v) \u001b[38;5;28;01mfor\u001b[39;00m k, v \u001b[38;5;129;01min\u001b[39;00m kwargs\u001b[38;5;241m.\u001b[39mitems()})\n\u001b[0;32m   1478\u001b[0m     bound \u001b[38;5;241m=\u001b[39m new_sig\u001b[38;5;241m.\u001b[39mbind(ax, \u001b[38;5;241m*\u001b[39margs, \u001b[38;5;241m*\u001b[39m\u001b[38;5;241m*\u001b[39mkwargs)\n\u001b[0;32m   1479\u001b[0m     auto_label \u001b[38;5;241m=\u001b[39m (bound\u001b[38;5;241m.\u001b[39marguments\u001b[38;5;241m.\u001b[39mget(label_namer)\n\u001b[0;32m   1480\u001b[0m                   \u001b[38;5;129;01mor\u001b[39;00m bound\u001b[38;5;241m.\u001b[39mkwargs\u001b[38;5;241m.\u001b[39mget(label_namer))\n",
      "File \u001b[1;32m~\\anaconda3\\anaconda3.3\\Lib\\site-packages\\matplotlib\\axes\\_axes.py:2597\u001b[0m, in \u001b[0;36mAxes.bar\u001b[1;34m(self, x, height, width, bottom, align, **kwargs)\u001b[0m\n\u001b[0;32m   2595\u001b[0m     \u001b[38;5;28;01melse\u001b[39;00m:  \u001b[38;5;66;03m# horizontal\u001b[39;00m\n\u001b[0;32m   2596\u001b[0m         r\u001b[38;5;241m.\u001b[39msticky_edges\u001b[38;5;241m.\u001b[39mx\u001b[38;5;241m.\u001b[39mappend(l)\n\u001b[1;32m-> 2597\u001b[0m     \u001b[38;5;28mself\u001b[39m\u001b[38;5;241m.\u001b[39madd_patch(r)\n\u001b[0;32m   2598\u001b[0m     patches\u001b[38;5;241m.\u001b[39mappend(r)\n\u001b[0;32m   2600\u001b[0m \u001b[38;5;28;01mif\u001b[39;00m xerr \u001b[38;5;129;01mis\u001b[39;00m \u001b[38;5;129;01mnot\u001b[39;00m \u001b[38;5;28;01mNone\u001b[39;00m \u001b[38;5;129;01mor\u001b[39;00m yerr \u001b[38;5;129;01mis\u001b[39;00m \u001b[38;5;129;01mnot\u001b[39;00m \u001b[38;5;28;01mNone\u001b[39;00m:\n",
      "File \u001b[1;32m~\\anaconda3\\anaconda3.3\\Lib\\site-packages\\matplotlib\\axes\\_base.py:2414\u001b[0m, in \u001b[0;36m_AxesBase.add_patch\u001b[1;34m(self, p)\u001b[0m\n\u001b[0;32m   2412\u001b[0m \u001b[38;5;28;01mif\u001b[39;00m p\u001b[38;5;241m.\u001b[39mget_clip_path() \u001b[38;5;129;01mis\u001b[39;00m \u001b[38;5;28;01mNone\u001b[39;00m:\n\u001b[0;32m   2413\u001b[0m     p\u001b[38;5;241m.\u001b[39mset_clip_path(\u001b[38;5;28mself\u001b[39m\u001b[38;5;241m.\u001b[39mpatch)\n\u001b[1;32m-> 2414\u001b[0m \u001b[38;5;28mself\u001b[39m\u001b[38;5;241m.\u001b[39m_update_patch_limits(p)\n\u001b[0;32m   2415\u001b[0m \u001b[38;5;28mself\u001b[39m\u001b[38;5;241m.\u001b[39m_children\u001b[38;5;241m.\u001b[39mappend(p)\n\u001b[0;32m   2416\u001b[0m p\u001b[38;5;241m.\u001b[39m_remove_method \u001b[38;5;241m=\u001b[39m \u001b[38;5;28mself\u001b[39m\u001b[38;5;241m.\u001b[39m_children\u001b[38;5;241m.\u001b[39mremove\n",
      "File \u001b[1;32m~\\anaconda3\\anaconda3.3\\Lib\\site-packages\\matplotlib\\axes\\_base.py:2445\u001b[0m, in \u001b[0;36m_AxesBase._update_patch_limits\u001b[1;34m(self, patch)\u001b[0m\n\u001b[0;32m   2442\u001b[0m \u001b[38;5;28;01mif\u001b[39;00m \u001b[38;5;28mlen\u001b[39m(vertices):\n\u001b[0;32m   2443\u001b[0m     vertices \u001b[38;5;241m=\u001b[39m np\u001b[38;5;241m.\u001b[39mvstack(vertices)\n\u001b[1;32m-> 2445\u001b[0m patch_trf \u001b[38;5;241m=\u001b[39m patch\u001b[38;5;241m.\u001b[39mget_transform()\n\u001b[0;32m   2446\u001b[0m updatex, updatey \u001b[38;5;241m=\u001b[39m patch_trf\u001b[38;5;241m.\u001b[39mcontains_branch_seperately(\u001b[38;5;28mself\u001b[39m\u001b[38;5;241m.\u001b[39mtransData)\n\u001b[0;32m   2447\u001b[0m \u001b[38;5;28;01mif\u001b[39;00m \u001b[38;5;129;01mnot\u001b[39;00m (updatex \u001b[38;5;129;01mor\u001b[39;00m updatey):\n",
      "File \u001b[1;32m~\\anaconda3\\anaconda3.3\\Lib\\site-packages\\matplotlib\\patches.py:308\u001b[0m, in \u001b[0;36mPatch.get_transform\u001b[1;34m(self)\u001b[0m\n\u001b[0;32m    306\u001b[0m \u001b[38;5;28;01mdef\u001b[39;00m \u001b[38;5;21mget_transform\u001b[39m(\u001b[38;5;28mself\u001b[39m):\n\u001b[0;32m    307\u001b[0m \u001b[38;5;250m    \u001b[39m\u001b[38;5;124;03m\"\"\"Return the `~.transforms.Transform` applied to the `Patch`.\"\"\"\u001b[39;00m\n\u001b[1;32m--> 308\u001b[0m     \u001b[38;5;28;01mreturn\u001b[39;00m \u001b[38;5;28mself\u001b[39m\u001b[38;5;241m.\u001b[39mget_patch_transform() \u001b[38;5;241m+\u001b[39m artist\u001b[38;5;241m.\u001b[39mArtist\u001b[38;5;241m.\u001b[39mget_transform(\u001b[38;5;28mself\u001b[39m)\n",
      "File \u001b[1;32m~\\anaconda3\\anaconda3.3\\Lib\\site-packages\\matplotlib\\patches.py:795\u001b[0m, in \u001b[0;36mRectangle.get_patch_transform\u001b[1;34m(self)\u001b[0m\n\u001b[0;32m    790\u001b[0m \u001b[38;5;28;01mdef\u001b[39;00m \u001b[38;5;21mget_patch_transform\u001b[39m(\u001b[38;5;28mself\u001b[39m):\n\u001b[0;32m    791\u001b[0m     \u001b[38;5;66;03m# Note: This cannot be called until after this has been added to\u001b[39;00m\n\u001b[0;32m    792\u001b[0m     \u001b[38;5;66;03m# an Axes, otherwise unit conversion will fail. This makes it very\u001b[39;00m\n\u001b[0;32m    793\u001b[0m     \u001b[38;5;66;03m# important to call the accessor method and not directly access the\u001b[39;00m\n\u001b[0;32m    794\u001b[0m     \u001b[38;5;66;03m# transformation member variable.\u001b[39;00m\n\u001b[1;32m--> 795\u001b[0m     bbox \u001b[38;5;241m=\u001b[39m \u001b[38;5;28mself\u001b[39m\u001b[38;5;241m.\u001b[39mget_bbox()\n\u001b[0;32m    796\u001b[0m     \u001b[38;5;28;01mif\u001b[39;00m \u001b[38;5;28mself\u001b[39m\u001b[38;5;241m.\u001b[39mrotation_point \u001b[38;5;241m==\u001b[39m \u001b[38;5;124m'\u001b[39m\u001b[38;5;124mcenter\u001b[39m\u001b[38;5;124m'\u001b[39m:\n\u001b[0;32m    797\u001b[0m         width, height \u001b[38;5;241m=\u001b[39m bbox\u001b[38;5;241m.\u001b[39mx1 \u001b[38;5;241m-\u001b[39m bbox\u001b[38;5;241m.\u001b[39mx0, bbox\u001b[38;5;241m.\u001b[39my1 \u001b[38;5;241m-\u001b[39m bbox\u001b[38;5;241m.\u001b[39my0\n",
      "File \u001b[1;32m~\\anaconda3\\anaconda3.3\\Lib\\site-packages\\matplotlib\\patches.py:926\u001b[0m, in \u001b[0;36mRectangle.get_bbox\u001b[1;34m(self)\u001b[0m\n\u001b[0;32m    924\u001b[0m \u001b[38;5;28;01mdef\u001b[39;00m \u001b[38;5;21mget_bbox\u001b[39m(\u001b[38;5;28mself\u001b[39m):\n\u001b[0;32m    925\u001b[0m \u001b[38;5;250m    \u001b[39m\u001b[38;5;124;03m\"\"\"Return the `.Bbox`.\"\"\"\u001b[39;00m\n\u001b[1;32m--> 926\u001b[0m     \u001b[38;5;28;01mreturn\u001b[39;00m transforms\u001b[38;5;241m.\u001b[39mBbox\u001b[38;5;241m.\u001b[39mfrom_extents(\u001b[38;5;241m*\u001b[39m\u001b[38;5;28mself\u001b[39m\u001b[38;5;241m.\u001b[39m_convert_units())\n",
      "File \u001b[1;32m~\\anaconda3\\anaconda3.3\\Lib\\site-packages\\matplotlib\\patches.py:785\u001b[0m, in \u001b[0;36mRectangle._convert_units\u001b[1;34m(self)\u001b[0m\n\u001b[0;32m    783\u001b[0m \u001b[38;5;250m\u001b[39m\u001b[38;5;124;03m\"\"\"Convert bounds of the rectangle.\"\"\"\u001b[39;00m\n\u001b[0;32m    784\u001b[0m x0 \u001b[38;5;241m=\u001b[39m \u001b[38;5;28mself\u001b[39m\u001b[38;5;241m.\u001b[39mconvert_xunits(\u001b[38;5;28mself\u001b[39m\u001b[38;5;241m.\u001b[39m_x0)\n\u001b[1;32m--> 785\u001b[0m y0 \u001b[38;5;241m=\u001b[39m \u001b[38;5;28mself\u001b[39m\u001b[38;5;241m.\u001b[39mconvert_yunits(\u001b[38;5;28mself\u001b[39m\u001b[38;5;241m.\u001b[39m_y0)\n\u001b[0;32m    786\u001b[0m x1 \u001b[38;5;241m=\u001b[39m \u001b[38;5;28mself\u001b[39m\u001b[38;5;241m.\u001b[39mconvert_xunits(\u001b[38;5;28mself\u001b[39m\u001b[38;5;241m.\u001b[39m_x0 \u001b[38;5;241m+\u001b[39m \u001b[38;5;28mself\u001b[39m\u001b[38;5;241m.\u001b[39m_width)\n\u001b[0;32m    787\u001b[0m y1 \u001b[38;5;241m=\u001b[39m \u001b[38;5;28mself\u001b[39m\u001b[38;5;241m.\u001b[39mconvert_yunits(\u001b[38;5;28mself\u001b[39m\u001b[38;5;241m.\u001b[39m_y0 \u001b[38;5;241m+\u001b[39m \u001b[38;5;28mself\u001b[39m\u001b[38;5;241m.\u001b[39m_height)\n",
      "File \u001b[1;32m~\\anaconda3\\anaconda3.3\\Lib\\site-packages\\matplotlib\\artist.py:291\u001b[0m, in \u001b[0;36mArtist.convert_yunits\u001b[1;34m(self, y)\u001b[0m\n\u001b[0;32m    289\u001b[0m \u001b[38;5;28;01mif\u001b[39;00m ax \u001b[38;5;129;01mis\u001b[39;00m \u001b[38;5;28;01mNone\u001b[39;00m \u001b[38;5;129;01mor\u001b[39;00m ax\u001b[38;5;241m.\u001b[39myaxis \u001b[38;5;129;01mis\u001b[39;00m \u001b[38;5;28;01mNone\u001b[39;00m:\n\u001b[0;32m    290\u001b[0m     \u001b[38;5;28;01mreturn\u001b[39;00m y\n\u001b[1;32m--> 291\u001b[0m \u001b[38;5;28;01mreturn\u001b[39;00m ax\u001b[38;5;241m.\u001b[39myaxis\u001b[38;5;241m.\u001b[39mconvert_units(y)\n",
      "File \u001b[1;32m~\\anaconda3\\anaconda3.3\\Lib\\site-packages\\matplotlib\\axis.py:1815\u001b[0m, in \u001b[0;36mAxis.convert_units\u001b[1;34m(self, x)\u001b[0m\n\u001b[0;32m   1813\u001b[0m     ret \u001b[38;5;241m=\u001b[39m \u001b[38;5;28mself\u001b[39m\u001b[38;5;241m.\u001b[39mconverter\u001b[38;5;241m.\u001b[39mconvert(x, \u001b[38;5;28mself\u001b[39m\u001b[38;5;241m.\u001b[39munits, \u001b[38;5;28mself\u001b[39m)\n\u001b[0;32m   1814\u001b[0m \u001b[38;5;28;01mexcept\u001b[39;00m \u001b[38;5;167;01mException\u001b[39;00m \u001b[38;5;28;01mas\u001b[39;00m e:\n\u001b[1;32m-> 1815\u001b[0m     \u001b[38;5;28;01mraise\u001b[39;00m munits\u001b[38;5;241m.\u001b[39mConversionError(\u001b[38;5;124m'\u001b[39m\u001b[38;5;124mFailed to convert value(s) to axis \u001b[39m\u001b[38;5;124m'\u001b[39m\n\u001b[0;32m   1816\u001b[0m                                  \u001b[38;5;124mf\u001b[39m\u001b[38;5;124m'\u001b[39m\u001b[38;5;124munits: \u001b[39m\u001b[38;5;132;01m{\u001b[39;00mx\u001b[38;5;132;01m!r}\u001b[39;00m\u001b[38;5;124m'\u001b[39m) \u001b[38;5;28;01mfrom\u001b[39;00m \u001b[38;5;21;01me\u001b[39;00m\n\u001b[0;32m   1817\u001b[0m \u001b[38;5;28;01mreturn\u001b[39;00m ret\n",
      "\u001b[1;31mConversionError\u001b[0m: Failed to convert value(s) to axis units: 'revenue'"
     ]
    },
    {
     "data": {
      "image/png": "[encoded data removed]",
      "text/plain": [
       "<Figure size 640x480 with 1 Axes>"
      ]
     },
     "metadata": {},
     "output_type": "display_data"
    }
   ],
   "source": [
    "## 11. write query to retrive and show summary of total sales and revenue using barplot\n",
    "query11='''select product_name,sum(quantity_sold) as Total_sales,sum(price*quantity_sold) as revenue from sales\n",
    "group by product_name'''\n",
    "# Assigning the query object to dataframe\n",
    "summary=pd.read_sql_query(query11,conn)\n",
    "# Executing the dataframe using matplotlib\n",
    "sns.barplot(x='product_name',y="
   ]
  },
  {
   "cell_type": "code",
   "execution_count": null,
   "id": "1be1d91b-257d-4f5e-a8e9-5ac4781951ff",
   "metadata": {},
   "outputs": [],
   "source": []
  }
 ],
 "metadata": {
  "kernelspec": {
   "display_name": "Python 3 (ipykernel)",
   "language": "python",
   "name": "python3"
  },
  "language_info": {
   "codemirror_mode": {
    "name": "ipython",
    "version": 3
   },
   "file_extension": ".py",
   "mimetype": "text/x-python",
   "name": "python",
   "nbconvert_exporter": "python",
   "pygments_lexer": "ipython3",
   "version": "3.12.7"
  }
 },
 "nbformat": 4,
 "nbformat_minor": 5
}
